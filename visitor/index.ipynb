{
 "cells": [
  {
   "cell_type": "markdown",
   "metadata": {},
   "source": [
    "Atividade Missão 2 - Padrão Visitor\n",
    "\n",
    "Responsável: Caio Ducati Castilho\n",
    "\n",
    "## Descrição do padrão Visitor\n",
    "\n",
    "O padrão Visitor é um padrão de projeto comportamental que segue o princípio de aberto/fechado do SOLID.\n",
    "Ele possibilita a criação de novos métodos sem alterar as classes originais. A responsabilidade dos métodos é delegada para outro objeto, conhecido como Visitor.\n",
    "\n",
    "Esse padrão possui uma classe chamada \"Visitor\", que é uma interface com métodos `visit()` específicos para cada classe de elementos. Já os elementos (as classes originais) possuem um método `accept()` que recebe o Visitor e executa a funcionalidade requerida.\n",
    "\n",
    "## Exemplo de implementação do padrão Visitor\n",
    "\n",
    "Neste exemplo, simulamos uma caixa que sofre a ação de uma força (gravidade)."
   ]
  },
  {
   "cell_type": "code",
   "execution_count": null,
   "metadata": {},
   "outputs": [],
   "source": [
    "class Visitor:\n",
    "    # Método visit para Solido\n",
    "    def visitSolido(self):\n",
    "        print(\"Desce devido à gravidade!\\n\")\n",
    "\n",
    "class Solido:\n",
    "    # Método accept que utiliza o Visitor\n",
    "    def accept(self, visitor):\n",
    "        visitor.visitSolido()\n",
    "\n",
    "# Criando instâncias\n",
    "gravidade = Visitor()\n",
    "caixa = Solido()\n",
    "\n",
    "# Chamando o método accept da classe Solido\n",
    "caixa.accept(gravidade)"
   ]
  },
  {
   "cell_type": "markdown",
   "metadata": {},
   "source": [
    "Saída esperada do programa:\n",
    "\n",
    "```\n",
    "Desce devido à gravidade!\n",
    "```"
   ]
  }
 ],
 "metadata": {
  "kernelspec": {
   "display_name": "Python 3",
   "language": "python",
   "name": "python3"
  },
  "language_info": {
   "codemirror_mode": {
    "name": "ipython",
    "version": 3
   },
   "file_extension": ".py",
   "mimetype": "text/x-python",
   "name": "python",
   "nbconvert_exporter": "python",
   "pygments_lexer": "ipython3",
   "version": "3.12.0"
  }
 },
 "nbformat": 4,
 "nbformat_minor": 2
}
