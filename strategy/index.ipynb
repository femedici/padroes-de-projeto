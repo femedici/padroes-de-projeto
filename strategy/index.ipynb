{
 "cells": [
  {
   "cell_type": "markdown",
   "metadata": {},
   "source": [
    "Atividade Missão 2 - Padrão Strategy\n",
    "\n",
    "Responsável: Felipe Medici\n",
    "\n",
    "## Descrição do padrão Strategy\n",
    "\n",
    "O padrão Strategy é um padrão de projeto comportamental que permite definir uma família de algoritmos, encapsulá-los em classes separadas e torná-los intercambiáveis. Ele facilita a extensão de funcionalidades sem modificar o código existente, seguindo o princípio de aberto/fechado do SOLID.\n",
    "\n",
    "No padrão Strategy, uma interface comum define o contrato para todos os algoritmos, enquanto classes concretas implementam diferentes variações desses algoritmos. A classe que usa o algoritmo (chamada de contexto) mantém uma referência a um objeto que implementa a interface do Strategy e delega a execução do algoritmo para ele.\n",
    "\n",
    "## Exemplo de implementação do padrão Strategy\n",
    "\n",
    "Neste exemplo, implementamos um sistema simples de cálculo de descontos baseado no tipo de cliente.\n"
   ]
  },
  {
   "cell_type": "code",
   "execution_count": null,
   "metadata": {},
   "outputs": [],
   "source": [
    "# Interface para estratégia de desconto\n",
    "class DiscountStrategy:\n",
    "    def calculate_discount(self, amount):\n",
    "        raise NotImplementedError(\"Subclasses devem implementar este método.\")\n",
    "\n",
    "# Estratégias concretas\n",
    "class NoDiscount(DiscountStrategy):\n",
    "    def calculate_discount(self, amount):\n",
    "        return 0\n",
    "\n",
    "class LoyaltyDiscount(DiscountStrategy):\n",
    "    def calculate_discount(self, amount):\n",
    "        return amount * 0.1  # 10% de desconto\n",
    "\n",
    "class SeasonalDiscount(DiscountStrategy):\n",
    "    def calculate_discount(self, amount):\n",
    "        return amount * 0.2  # 20% de desconto\n",
    "\n",
    "# Classe Contexto\n",
    "class Order:\n",
    "    def __init__(self, amount, strategy: DiscountStrategy):\n",
    "        self.amount = amount\n",
    "        self.strategy = strategy\n",
    "\n",
    "    def calculate_total(self):\n",
    "        discount = self.strategy.calculate_discount(self.amount)\n",
    "        return self.amount - discount\n",
    "\n",
    "# Exemplo de uso\n",
    "order1 = Order(100, NoDiscount())  # Sem desconto\n",
    "order2 = Order(200, LoyaltyDiscount())  # Desconto por fidelidade\n",
    "order3 = Order(300, SeasonalDiscount())  # Desconto sazonal\n",
    "\n",
    "print(\"Total sem desconto:\", order1.calculate_total())  # 100\n",
    "print(\"Total com desconto fidelidade:\", order2.calculate_total())  # 180\n",
    "print(\"Total com desconto sazonal:\", order3.calculate_total())  # 240\n"
   ]
  },
  {
   "cell_type": "markdown",
   "metadata": {},
   "source": [
    "Saída esperada do programa:"
   ]
  },
  {
   "cell_type": "code",
   "execution_count": null,
   "metadata": {},
   "outputs": [],
   "source": [
    "Total sem desconto: 100\n",
    "Total com desconto fidelidade: 180\n",
    "Total com desconto sazonal: 240\n"
   ]
  },
  {
   "cell_type": "markdown",
   "metadata": {},
   "source": [
    "#### Refêrencia: \n",
    "- Grupo Softplan [https://www.softplan.com.br/tech-writers/descomplicando-o-strategy/#:~:text=O%20que%20%C3%A9%20o%20Padr%C3%A3o,e%20ent%C3%A3o%20torn%C3%A1%2Dlos%20intercambi%C3%A1veis.]\n",
    "- Chat GPT "
   ]
  }
 ],
 "metadata": {
  "kernelspec": {
   "display_name": "Python 3",
   "language": "python",
   "name": "python3"
  },
  "language_info": {
   "codemirror_mode": {
    "name": "ipython",
    "version": 3
   },
   "file_extension": ".py",
   "mimetype": "text/x-python",
   "name": "python",
   "nbconvert_exporter": "python",
   "pygments_lexer": "ipython3",
   "version": "3.12.0"
  }
 },
 "nbformat": 4,
 "nbformat_minor": 2
}
