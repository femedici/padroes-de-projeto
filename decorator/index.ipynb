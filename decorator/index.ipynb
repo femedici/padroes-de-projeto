{
 "cells": [
  {
   "cell_type": "markdown",
   "metadata": {
    "id": "dub_cFdizsxi"
   },
   "source": [
    "Atividade Missão 2 - Pradão decorator\n",
    "\n",
    "Responsável: João Pedro da Silva de Andrade\n",
    "\n",
    "## Descrição do padrão Decorator\n",
    "\n",
    "O padrão Decorator é uma solução de design que utiliza composição para adicionar ou estender funcionalidades a uma classe de forma dinâmica, sem a necessidade de modificar a classe original ou recorrer à herança. Ele permite que comportamentos sejam empilhados ou combinados de forma flexível.\n",
    "\n",
    "## Problema que o Padrão Decorator Resolve\n",
    "O padrão Decorator resolve o problema de adicionar novas funcionalidades a objetos sem modificar o código original. Ele é útil quando:\n",
    "\n",
    "    1. Adição dinâmica de comportamentos: Você precisa adicionar comportamentos a um objeto em tempo de execução, sem alterar sua estrutura original.\n",
    "    2. Explosão de subclasses: Ao usar herança para combinar diferentes comportamentos, é comum criar um grande número de subclasses, o que pode tornar o código difícil de manter. O Decorator permite adicionar funcionalidades sem precisar criar novas classes.\n",
    "    3. Composição ao invés de herança: Quando a herança se torna inadequada, a composição é uma solução mais flexível, pois comportamentos podem ser combinados de maneira modular.\n",
    "\n",
    "## Quando Usar o Padrão Decorator\n",
    "- Quando você precisa estender as funcionalidades de um objeto de maneira flexível e dinâmica, sem modificar o código da classe original.\n",
    "- Quando você quer evitar a criação de muitas subclasses, que podem tornar o código excessivamente complexo e difícil de manter.\n",
    "- Quando as funcionalidades podem ser combinadas ou modificadas em tempo de execução, permitindo a personalização dos objetos conforme necessário.\n",
    "- Quando você deseja adicionar funcionalidades adicionais a um objeto de maneira modular, sem sobrecarregar a classe base com muitas opções.\n",
    "\n",
    "## Exemplo implementação do padrão\n",
    "\n",
    "Suponha que temos uma máquina de bebidas que pode servir café simples, café com leite, chá, e refrigerante.\n",
    "Cada máquina é designada para servir apenas um tipo de bebida especificado, os tipos de bebidas que a máquina pode vender podem ser expandidos no futuro.\n",
    "- Cada bebida básica tem um custo fixo e uma descrição específica.\n",
    "- A máquina permite a venda de bebidas com adicionais como açucar, leite e limão.\n"
   ]
  },
  {
   "cell_type": "code",
   "execution_count": null,
   "metadata": {
    "id": "1ZiBIabozsxj"
   },
   "outputs": [],
   "source": [
    "from abc import abstractmethod"
   ]
  },
  {
   "cell_type": "code",
   "execution_count": 2,
   "metadata": {
    "id": "GFbcVn9Uzsxk"
   },
   "outputs": [],
   "source": [
    "#classe abstrata\n",
    "class Bebida:\n",
    "    @abstractmethod\n",
    "    def get_descricao(self) -> str:\n",
    "        pass\n",
    "    @abstractmethod\n",
    "    def get_preco(self) -> float:\n",
    "        pass"
   ]
  },
  {
   "cell_type": "code",
   "execution_count": 17,
   "metadata": {
    "id": "Iu7Gn8CPzsxl"
   },
   "outputs": [],
   "source": [
    "class CafeSimples(Bebida):\n",
    "\n",
    "    def get_descricao(self) -> str:\n",
    "        return \"Café simples\"\n",
    "\n",
    "    def get_preco(self) -> float:\n",
    "        return 10.0\n",
    "\n",
    "class Cha(Bebida):\n",
    "    def get_descricao(self) -> str:\n",
    "        return \"Chá\"\n",
    "\n",
    "    def get_preco(self) -> float:\n",
    "        return 12.5\n",
    "\n",
    "class Refrigerante(Bebida):\n",
    "    def get_descricao(self) -> str:\n",
    "        return \"Refrigerante\"\n",
    "\n",
    "    def get_preco(self) -> float:\n",
    "        return 15.0\n",
    "\n",
    "class Leite(Bebida):\n",
    "    def __init__(self, bebida: Bebida):\n",
    "        self.bebida = bebida\n",
    "\n",
    "    def get_descricao(self) -> str:\n",
    "        return self.bebida.get_descricao() + \" com leite\"\n",
    "\n",
    "    def get_preco(self) -> float:\n",
    "        return self.bebida.get_preco() + 5.0\n",
    "\n",
    "class Açucar(Bebida):\n",
    "    def __init__(self, bebida: Bebida):\n",
    "        self.bebida = bebida\n",
    "\n",
    "    def get_descricao(self) -> str:\n",
    "        return self.bebida.get_descricao() + \" com açucar\"\n",
    "\n",
    "    def get_preco(self) -> float:\n",
    "        return self.bebida.get_preco() + 3.0\n",
    "\n",
    "class Limao(Bebida):\n",
    "    def __init__(self, bebida: Bebida):\n",
    "        self.bebida = bebida\n",
    "\n",
    "    def get_descricao(self) -> str:\n",
    "        return self.bebida.get_descricao() + \" com limão\"\n",
    "\n",
    "    def get_preco(self) -> float:\n",
    "        return self.bebida.get_preco() + 2.5"
   ]
  },
  {
   "cell_type": "code",
   "execution_count": 18,
   "metadata": {
    "id": "gsKB1YPhzsxl"
   },
   "outputs": [],
   "source": [
    "class MaquinaDeBebidas(Bebida):\n",
    "\n",
    "    def __init__(self, bebida: Bebida):\n",
    "        self.bebida = bebida\n",
    "\n",
    "    def get_descricao(self):\n",
    "        return self.bebida.get_descricao()\n",
    "\n",
    "    def get_preco(self):\n",
    "        return self.bebida.get_preco()"
   ]
  },
  {
   "cell_type": "code",
   "execution_count": 19,
   "metadata": {
    "id": "VHgRM4Inzsxl"
   },
   "outputs": [],
   "source": [
    "# Instâncias das bebidas básicas\n",
    "cafe = CafeSimples()\n",
    "cha = Cha()\n",
    "refrigerante = Refrigerante()\n",
    "\n",
    "# Decorando as bebidas com complementos\n",
    "cafe_com_leite = Leite(cafe)\n",
    "cafe_com_acucar = Açucar(cafe)\n",
    "cha_com_acucar_e_limao = Açucar(Limao(cha))\n",
    "refrigerante_com_limao = Limao(refrigerante)\n",
    "\n",
    "# Criando a máquina de bebidas\n",
    "maquina_cafe = MaquinaDeBebidas(cafe_com_leite)\n",
    "maquina_cha = MaquinaDeBebidas(cha_com_acucar_e_limao)\n",
    "maquina_refrigerante = MaquinaDeBebidas(refrigerante_com_limao)\n",
    "\n"
   ]
  },
  {
   "cell_type": "markdown",
   "metadata": {},
   "source": [
    "Saída esperada do programa:"
   ]
  },
  {
   "cell_type": "code",
   "execution_count": 20,
   "metadata": {
    "colab": {
     "base_uri": "https://localhost:8080/"
    },
    "id": "gahJhNImz5fw",
    "outputId": "6db684ac-e60c-4999-80aa-cb31525e46cc"
   },
   "outputs": [
    {
     "name": "stdout",
     "output_type": "stream",
     "text": [
      "Descrição do Café com Leite: Café simples com leite\n",
      "Preço do Café com Leite: 15.0\n",
      "Descrição do Chá com Açúcar e Limão: Chá com limão com açucar\n",
      "Preço do Chá com Açúcar e Limão: 18.0\n",
      "Descrição do Refrigerante com Limão: Refrigerante com limão\n",
      "Preço do Refrigerante com Limão: 17.5\n",
      "Descrição do Café Simples: Café simples\n",
      "Preço do Café Simples: 10.0\n"
     ]
    }
   ],
   "source": [
    "# Saídas\n",
    "print(\"Descrição do Café com Leite:\", maquina_cafe.get_descricao())\n",
    "print(\"Preço do Café com Leite:\", maquina_cafe.get_preco())\n",
    "\n",
    "print(\"Descrição do Chá com Açúcar e Limão:\", maquina_cha.get_descricao())\n",
    "print(\"Preço do Chá com Açúcar e Limão:\", maquina_cha.get_preco())\n",
    "\n",
    "print(\"Descrição do Refrigerante com Limão:\", maquina_refrigerante.get_descricao())\n",
    "print(\"Preço do Refrigerante com Limão:\", maquina_refrigerante.get_preco())\n",
    "\n",
    "# Bebida sem complementos\n",
    "maquina_cafe_simples = MaquinaDeBebidas(cafe)\n",
    "print(\"Descrição do Café Simples:\", maquina_cafe_simples.get_descricao())\n",
    "print(\"Preço do Café Simples:\", maquina_cafe_simples.get_preco())"
   ]
  },
  {
   "cell_type": "markdown",
   "metadata": {
    "id": "szf1ulMU5r1A"
   },
   "source": [
    "### Referência\n",
    "[Capítulo 6 - Engenharia de Software Moderna](https://engsoftmoderna.info/cap6.html)\n",
    "\n",
    "[ChatGPT, OpenAI](https://openai.com/chatgpt). Acesso em: 4 dez. 2024."
   ]
  }
 ],
 "metadata": {
  "colab": {
   "provenance": []
  },
  "kernelspec": {
   "display_name": "Python 3",
   "language": "python",
   "name": "python3"
  },
  "language_info": {
   "codemirror_mode": {
    "name": "ipython",
    "version": 3
   },
   "file_extension": ".py",
   "mimetype": "text/x-python",
   "name": "python",
   "nbconvert_exporter": "python",
   "pygments_lexer": "ipython3",
   "version": "3.12.6"
  }
 },
 "nbformat": 4,
 "nbformat_minor": 0
}
