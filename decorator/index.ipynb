{
 "cells": [
  {
   "cell_type": "markdown",
   "metadata": {},
   "source": [
    "Atividade Missão 2 - Pradão decorator\n",
    "\n",
    "Responsável: \n",
    "\n",
    "## Descrição do padrão Decorator\n",
    "\n",
    "asopdfkasopdfkopasdkpokfpoasdkpofkaskdfpokasdpofkpaskpokapodskpofkopsdakfpasdkpofokpasdokfkopasdf\n",
    "asdopkfopasdkfpoaskdpokfpoasd\n",
    "asdpofkaposdkfpokasdpofkpasdkpofkpoasd\n",
    "aokpsdfpoaksdop\n",
    "\n",
    "\n",
    "## Exemplo implementação do padrão\n",
    "\n",
    "Suponha que temos um sistema de pagamento que espera uma interface específica (PaymentProcessor), mas queremos integrar com uma API de pagamento existente que usa uma interface diferente (ThirdPartyPayment)."
   ]
  },
  {
   "cell_type": "code",
   "execution_count": null,
   "metadata": {},
   "outputs": [],
   "source": [
    "# Interface esperada pelo sistema\n",
    "class PaymentProcessor:\n",
    "    def pay(self, amount: float):\n",
    "        pass\n",
    "\n",
    "# API de pagamento de terceiros com uma interface incompatível\n",
    "class ThirdPartyPayment:\n",
    "    def make_payment(self, value: float):\n",
    "        print(f\"Payment of ${value:.2f} processed by ThirdPartyPayment.\")\n",
    "\n",
    "# Adapter para tornar a API de terceiros compatível com o sistema\n",
    "class ThirdPartyPaymentAdapter(PaymentProcessor):\n",
    "    def __init__(self, third_party_payment: ThirdPartyPayment):\n",
    "        self.third_party_payment = third_party_payment\n",
    "\n",
    "    def pay(self, amount: float):\n",
    "        # Chama o método da API de terceiros\n",
    "        self.third_party_payment.make_payment(amount)\n",
    "\n",
    "# Sistema que utiliza o PaymentProcessor\n",
    "class ECommercePlatform:\n",
    "    def __init__(self, payment_processor: PaymentProcessor):\n",
    "        self.payment_processor = payment_processor\n",
    "\n",
    "    def checkout(self, amount: float):\n",
    "        print(\"Processing checkout...\")\n",
    "        self.payment_processor.pay(amount)\n",
    "        print(\"Checkout complete.\")\n",
    "\n",
    "# Uso do Adapter\n",
    "if __name__ == \"__main__\":\n",
    "    # Instância da API de pagamento de terceiros\n",
    "    third_party_api = ThirdPartyPayment()\n",
    "\n",
    "    # Adaptador que torna compatível\n",
    "    adapter = ThirdPartyPaymentAdapter(third_party_api)\n",
    "\n",
    "    # Sistema de e-commerce usando o adaptador\n",
    "    ecommerce_platform = ECommercePlatform(adapter)\n",
    "\n",
    "    # Simulação de checkout\n",
    "    ecommerce_platform.checkout(100.0)\n"
   ]
  },
  {
   "cell_type": "markdown",
   "metadata": {},
   "source": [
    "Saída esperada do programa:"
   ]
  },
  {
   "cell_type": "code",
   "execution_count": 1,
   "metadata": {},
   "outputs": [
    {
     "ename": "SyntaxError",
     "evalue": "invalid syntax (1604752944.py, line 1)",
     "output_type": "error",
     "traceback": [
      "\u001b[1;36m  Cell \u001b[1;32mIn[1], line 1\u001b[1;36m\u001b[0m\n\u001b[1;33m    Processing checkout...\u001b[0m\n\u001b[1;37m               ^\u001b[0m\n\u001b[1;31mSyntaxError\u001b[0m\u001b[1;31m:\u001b[0m invalid syntax\n"
     ]
    }
   ],
   "source": [
    "Processing checkout...\n",
    "Payment of $100.00 processed by ThirdPartyPayment.\n",
    "Checkout complete.\n"
   ]
  }
 ],
 "metadata": {
  "kernelspec": {
   "display_name": "Python 3",
   "language": "python",
   "name": "python3"
  },
  "language_info": {
   "codemirror_mode": {
    "name": "ipython",
    "version": 3
   },
   "file_extension": ".py",
   "mimetype": "text/x-python",
   "name": "python",
   "nbconvert_exporter": "python",
   "pygments_lexer": "ipython3",
   "version": "3.12.0"
  }
 },
 "nbformat": 4,
 "nbformat_minor": 2
}
