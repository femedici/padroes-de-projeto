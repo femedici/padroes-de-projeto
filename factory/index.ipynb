{
 "cells": [
  {
   "cell_type": "markdown",
   "metadata": {},
   "source": [
    "Atividade Missão 2 - Padrão factory\n",
    "\n",
    "Responsável: Felipe Roskosz Moran\n",
    "\n",
    "## Descrição do padrão Factory\n",
    "\n",
    "O Padrão Factory é um padrão de criação que fornece uma interface para criar objetos em uma superclasse, mas permite que as subclasses alterem o tipo de objetos que serão criados. Ele é útil para encapsular a lógica de instanciamento, oferecendo flexibilidade e mantendo o código desacoplado.\n",
    "\n",
    "\n",
    "## Exemplo implementação do padrão\n",
    "\n",
    "Neste exemplo vamos criar diferentes tipos de carros e motos."
   ]
  },
  {
   "cell_type": "code",
   "execution_count": 1,
   "metadata": {},
   "outputs": [
    {
     "name": "stdout",
     "output_type": "stream",
     "text": [
      "Criando um carro:\n",
      "Transporte criado: Carro\n",
      "\n",
      "Criando uma moto:\n",
      "Transporte criado: Moto\n"
     ]
    }
   ],
   "source": [
    "from abc import ABC, abstractmethod\n",
    "\n",
    "# Interface ou classe base para os produtos\n",
    "class Veiculo(ABC):\n",
    "    @abstractmethod\n",
    "    def tipo(self) -> str:\n",
    "        pass\n",
    "\n",
    "# Implementações concretas dos produtos\n",
    "class Carro(Veiculo):\n",
    "    def tipo(self) -> str:\n",
    "        return \"Carro\"\n",
    "\n",
    "class Moto(Veiculo):\n",
    "    def tipo(self) -> str:\n",
    "        return \"Moto\"\n",
    "\n",
    "# Classe base com o método Factory\n",
    "class Transporte(ABC):\n",
    "    @abstractmethod\n",
    "    def criar_veiculo(self) -> Veiculo:\n",
    "        pass\n",
    "\n",
    "    def operacao(self) -> str:\n",
    "        veiculo = self.criar_veiculo()\n",
    "        return f\"Transporte criado: {veiculo.tipo()}\"\n",
    "\n",
    "# Implementações concretas da fábrica\n",
    "class FabricaCarro(Transporte):\n",
    "    def criar_veiculo(self) -> Veiculo:\n",
    "        return Carro()\n",
    "\n",
    "class FabricaMoto(Transporte):\n",
    "    def criar_veiculo(self) -> Veiculo:\n",
    "        return Moto()\n",
    "\n",
    "# Cliente\n",
    "def cliente(transporte: Transporte):\n",
    "    print(transporte.operacao())\n",
    "\n",
    "# Testando o código\n",
    "if __name__ == \"__main__\":\n",
    "    print(\"Criando um carro:\")\n",
    "    cliente(FabricaCarro())\n",
    "\n",
    "    print(\"\\nCriando uma moto:\")\n",
    "    cliente(FabricaMoto())\n"
   ]
  }
 ],
 "metadata": {
  "kernelspec": {
   "display_name": "Python 3",
   "language": "python",
   "name": "python3"
  },
  "language_info": {
   "codemirror_mode": {
    "name": "ipython",
    "version": 3
   },
   "file_extension": ".py",
   "mimetype": "text/x-python",
   "name": "python",
   "nbconvert_exporter": "python",
   "pygments_lexer": "ipython3",
   "version": "3.11.9"
  }
 },
 "nbformat": 4,
 "nbformat_minor": 2
}
