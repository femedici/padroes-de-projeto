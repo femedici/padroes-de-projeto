{
 "cells": [
  {
   "cell_type": "markdown",
   "metadata": {},
   "source": [
    "Atividade Missão 2 - Padrão Proxy\n",
    "\n",
    "Responsável: Matheus Coitinho\n",
    "\n",
    "## Descrição do Padrão Proxy\n",
    "\n",
    "O padrão de projeto Proxy é um padrão estrutural que fornece um substituto ou ponto de acesso a outro objeto, controlando o acesso a ele. Ele é utilizado quando é necessário adicionar uma camada de controle ou comportamento antes de acessar o objeto real.\n",
    "\n",
    "### Problema que resolve\n",
    "O Proxy é útil em situações onde:\n",
    "- Queremos controlar o acesso a um recurso pesado ou sensível, como conexões de banco de dados ou arquivos grandes;\n",
    "- Desejamos adicionar funcionalidades, como cache ou controle de permissão, sem alterar o código do objeto real;\n",
    "- Precisamos criar objetos apenas quando forem realmente necessários (Lazy Initialization).\n",
    "\n",
    "### Quando usar o padrão\n",
    "- Controle de acesso: Limitar quem pode acessar ou manipular o objeto real.\n",
    "- Otimização: Carregar recursos pesados sob demanda.\n",
    "- Registro de ações: Registrar acessos ou modificações em objetos sensíveis.\n",
    "\n",
    "### Exemplo prático\n",
    "Vamos simular um cenário onde um sistema utiliza uma interface para carregar imagens. Como o carregamento pode ser demorado, um Proxy é implementado para carregar a imagem apenas quando ela for necessária."
   ]
  },
  {
   "cell_type": "code",
   "execution_count": null,
   "metadata": {},
   "outputs": [],
   "source": [
    "# Interface comum para o RealSubject e o Proxy\n",
    "class Image:\n",
    "    def display(self):\n",
    "        pass\n",
    "\n",
    "# Objeto real que implementa a interface\n",
    "class RealImage(Image):\n",
    "    def __init__(self, filename: str):\n",
    "        self.filename = filename\n",
    "        self.load_from_disk()\n",
    "\n",
    "    def load_from_disk(self):\n",
    "        print(f\"Carregando {self.filename} do disco...\")\n",
    "\n",
    "    def display(self):\n",
    "        print(f\"Mostrando {self.filename}\")\n",
    "\n",
    "# Proxy que controla o acesso ao RealImage\n",
    "class ProxyImage(Image):\n",
    "    def __init__(self, filename: str):\n",
    "        self.filename = filename\n",
    "        self.real_image = None\n",
    "\n",
    "    def display(self):\n",
    "        if self.real_image is None:\n",
    "            self.real_image = RealImage(self.filename)\n",
    "        self.real_image.display()\n",
    "\n",
    "# Uso do Proxy\n",
    "if __name__ == \"__main__\":\n",
    "    image1 = ProxyImage(\"photo1.jpg\")\n",
    "    image2 = ProxyImage(\"photo2.jpg\")\n",
    "\n",
    "    # Imagens são carregadas apenas quando necessárias\n",
    "    print(\"Mostrando imagem 1:\")\n",
    "    image1.display()\n",
    "\n",
    "    print(\"Mostrando imagem 1 novamente:\")\n",
    "    image1.display()\n",
    "\n",
    "    print(\"Mostrando imagem 2:\")\n",
    "    image2.display()\n"
   ]
  },
  {
   "cell_type": "markdown",
   "metadata": {},
   "source": [
    "### Saída esperada do programa:\n",
    "```\n",
    "Mostrando imagem 1:\n",
    "Carregando photo1.jpg do disco...\n",
    "Mostrando photo1.jpg\n",
    "Mostrando imagem 1 novamente:\n",
    "Mostrando photo1.jpg\n",
    "Mostrando imagem 2:\n",
    "Carregando photo2.jpg do disco...\n",
    "Mostrando photo2.jpg\n",
    "```\n",
    "\n",
    "### Vantagens e desvantagens\n",
    "#### Vantagens\n",
    "- Permite controle adicional antes de acessar o objeto real;\n",
    "- Reduz o uso de recursos ao criar objetos sob demanda;\n",
    "- Pode ser usado para adicionar funcionalidades como cache ou autenticação.\n",
    "\n",
    "#### Desvantagens\n",
    "- Adiciona complexidade ao sistema devido à introdução de novos objetos;\n",
    "- Pode introduzir latência, dependendo da implementação.\n"
   ]
  }
 ],
 "metadata": {
  "kernelspec": {
   "display_name": "Python 3",
   "language": "python",
   "name": "python3"
  },
  "language_info": {
   "codemirror_mode": {
    "name": "ipython",
    "version": 3
   },
   "file_extension": ".py",
   "mimetype": "text/x-python",
   "name": "python",
   "nbconvert_exporter": "python",
   "pygments_lexer": "ipython3",
   "version": "3.12.0"
  }
 },
 "nbformat": 4,
 "nbformat_minor": 2
}
