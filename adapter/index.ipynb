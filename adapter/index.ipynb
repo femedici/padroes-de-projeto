{
 "cells": [
  {
   "cell_type": "markdown",
   "metadata": {},
   "source": [
    "Atividade Missão 2 - Padrão adapter\n",
    "\n",
    "Responsável: Caio Goia\n",
    "\n",
    "## Descrição do padrão Decorator\n",
    "\n",
    "O padrão de projeto Adapter é um padrão estrutural que permite que classes com interfaces incompatíveis trabalhem juntas. Ele age como um conversor, adaptando a interface de uma classe para que ela possa ser utilizada por outra classe, sem modificar seu código-fonte original.\n",
    "\n",
    "\n",
    "## Exemplo implementação do padrão\n",
    "\n",
    "Um sistema precisa processar informações de dispositivos antigos que usam um formato diferente. O Adapter fará a conversão para o novo formato esperado."
   ]
  },
  {
   "cell_type": "code",
   "execution_count": 1,
   "metadata": {},
   "outputs": [
    {
     "name": "stdout",
     "output_type": "stream",
     "text": [
      "Convertido: Dados no formato legado\n"
     ]
    }
   ],
   "source": [
    "# Target: Interface esperada pelo cliente\n",
    "class NewSystemInterface:\n",
    "    def process_data(self, data):\n",
    "        raise NotImplementedError(\"Este método deve ser implementado\")\n",
    "\n",
    "# Adaptee: Classe existente com interface incompatível\n",
    "class OldDevice:\n",
    "    def get_legacy_data(self):\n",
    "        return \"Dados no formato legado\"\n",
    "\n",
    "# Adapter: Adapta a interface de OldDevice para NewSystemInterface\n",
    "class DeviceAdapter(NewSystemInterface):\n",
    "    def __init__(self, old_device):\n",
    "        self.old_device = old_device\n",
    "\n",
    "    def process_data(self, data=None):\n",
    "        legacy_data = self.old_device.get_legacy_data()\n",
    "        # Converte os dados do formato legado para o novo formato\n",
    "        converted_data = f\"Convertido: {legacy_data}\"\n",
    "        return converted_data\n",
    "\n",
    "# Client: Utiliza a interface Target\n",
    "class Client:\n",
    "    def __init__(self, device):\n",
    "        self.device = device\n",
    "\n",
    "    def execute(self):\n",
    "        print(self.device.process_data())\n",
    "\n",
    "# Uso do Adapter\n",
    "old_device = OldDevice()\n",
    "adapter = DeviceAdapter(old_device)\n",
    "client = Client(adapter)\n",
    "client.execute()\n"
   ]
  },
  {
   "cell_type": "markdown",
   "metadata": {},
   "source": [
    "# Saída esperada do programa:\n",
    "\n",
    "Convertido: Dados no formato legado\n"
   ]
  }
 ],
 "metadata": {
  "kernelspec": {
   "display_name": "Python 3",
   "language": "python",
   "name": "python3"
  },
  "language_info": {
   "codemirror_mode": {
    "name": "ipython",
    "version": 3
   },
   "file_extension": ".py",
   "mimetype": "text/x-python",
   "name": "python",
   "nbconvert_exporter": "python",
   "pygments_lexer": "ipython3",
   "version": "3.12.8"
  }
 },
 "nbformat": 4,
 "nbformat_minor": 2
}
